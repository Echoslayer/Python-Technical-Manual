{
 "cells": [
  {
   "cell_type": "code",
   "execution_count": 19,
   "metadata": {},
   "outputs": [
    {
     "name": "stdout",
     "output_type": "stream",
     "text": [
      "PDF 檔案已生成: /Users/xieweizhe/Desktop/MacCode/Python-Technical-Manual/Self-Try/test.pdf\n"
     ]
    }
   ],
   "source": [
    "import pdfkit\n",
    "from pathlib import Path\n",
    "from bs4 import BeautifulSoup\n",
    "\n",
    "# 指定 wkhtmltopdf 的路徑\n",
    "path_to_wkhtmltopdf = r'/usr/local/bin/wkhtmltopdf'\n",
    "config = pdfkit.configuration(wkhtmltopdf=path_to_wkhtmltopdf)\n",
    "\n",
    "# 指定 HTML 檔案路徑\n",
    "html_path = Path(r\"/Users/xieweizhe/Desktop/MacCode/Python-Technical-Manual/Self-Try/test.html\")\n",
    "\n",
    "# 打開 HTML 檔案並讀取內容\n",
    "with open(html_path, 'r', encoding='utf-8') as html_file:\n",
    "    html_content = html_file.read()\n",
    "\n",
    "# 使用 BeautifulSoup 解析 HTML\n",
    "soup = BeautifulSoup(html_content, 'html.parser')\n",
    "\n",
    "# 選擇具有特定類名的元素\n",
    "elements = soup.find_all('img')\n",
    "\n",
    "# 提取選定元素的 HTML 並拼接\n",
    "content = ''\n",
    "for element in elements:\n",
    "    # 將每個元素轉換為字串並拼接\n",
    "    content += str(element)\n",
    "    content += '<br>'  # 加上換行符或其他分隔符來分隔元素\n",
    "\n",
    "# 包裝 HTML 內容，添加 CSS 樣式讓內容適應 A4 寬度\n",
    "output_html = '''\n",
    "<html>\n",
    "<head>\n",
    "<meta http-equiv=\"content-type\" content=\"text/html;charset=utf-8\">\n",
    "<style>\n",
    "    /* 設置頁面寬度為 A4 大小，並保持每個元素的寬度為 100% */\n",
    "    @page {\n",
    "        size: A4;\n",
    "        margin: 20mm;\n",
    "    }\n",
    "    body {\n",
    "        width: 100%;\n",
    "        margin: 0;\n",
    "        padding: 0;\n",
    "        box-sizing: border-box;\n",
    "    }\n",
    "    img {\n",
    "        max-width: 100%; /* 確保圖片寬度不超過頁面 */\n",
    "        height: auto;\n",
    "    }\n",
    "    .element {\n",
    "        width: 100%; /* 讓每個元素寬度適應頁面 */\n",
    "        max-width: 100%;\n",
    "    }\n",
    "</style>\n",
    "</head>\n",
    "<body>\n",
    "'''\n",
    "\n",
    "# 插入 HTML 內容\n",
    "output_html += content\n",
    "output_html += '</body></html>'\n",
    "\n",
    "\n",
    "\n",
    "# 指定輸出 PDF 檔案的路徑\n",
    "output_file_path = html_path.parent / html_path.stem\n",
    "\n",
    "# 設定 PDF 生成選項，指定較高的 DPI\n",
    "options = {\n",
    "    'dpi': 300,  # 設定圖片的 DPI 解析度為 300，這是一個比較高的標準解析度\n",
    "    'page-size': 'A4',\n",
    "    'margin-top': '0mm',\n",
    "    'margin-right': '0mm',\n",
    "    'margin-bottom': '0mm',\n",
    "    'margin-left': '0mm',\n",
    "    'encoding': \"UTF-8\"\n",
    "}\n",
    "\n",
    "# 使用 pdfkit 生成 PDF\n",
    "pdfkit.from_string(output_html, f'{output_file_path}.pdf', configuration=config, options=options)\n",
    "\n",
    "print(f'PDF 檔案已生成: {output_file_path}.pdf')"
   ]
  },
  {
   "cell_type": "code",
   "execution_count": 18,
   "metadata": {},
   "outputs": [],
   "source": [
    "with open('/Users/xieweizhe/Desktop/MacCode/Python-Technical-Manual/Self-Try/test1.html', 'w', encoding='utf-8') as html_file:\n",
    "    html_file.write(output_html)"
   ]
  },
  {
   "cell_type": "code",
   "execution_count": 8,
   "metadata": {},
   "outputs": [
    {
     "name": "stdout",
     "output_type": "stream",
     "text": [
      "PDF 已生成: test1.pdf\n"
     ]
    }
   ],
   "source": [
    "import asyncio\n",
    "from pyppeteer import launch\n",
    "from pathlib import Path\n",
    "import nest_asyncio\n",
    "\n",
    "# 允許嵌套事件循環\n",
    "nest_asyncio.apply()\n",
    "\n",
    "# 定義生成 PDF 的函數\n",
    "async def generate_pdf():\n",
    "    # 打開瀏覽器\n",
    "    browser = await launch()\n",
    "    page = await browser.newPage()\n",
    "    \n",
    "    # 打開本地 HTML 檔案\n",
    "    html_path = Path(r'/Users/xieweizhe/Desktop/MacCode/Python-Technical-Manual/Self-Try/test1.html')\n",
    "    await page.goto(f'file://{html_path}', {'waitUntil': 'load'})\n",
    "    \n",
    "    # 儲存為 PDF，設定無壓縮、高質量\n",
    "    await page.pdf({\n",
    "        'path': f'{html_path.parent}/{html_path.stem}.pdf',\n",
    "    })\n",
    "    \n",
    "    await browser.close()\n",
    "    print(f'PDF 已生成: {html_path.stem}.pdf')\n",
    "\n",
    "# 執行生成 PDF 的函數\n",
    "asyncio.get_event_loop().run_until_complete(generate_pdf())"
   ]
  },
  {
   "cell_type": "code",
   "execution_count": null,
   "metadata": {},
   "outputs": [],
   "source": []
  }
 ],
 "metadata": {
  "kernelspec": {
   "display_name": "JKENVtoolkits",
   "language": "python",
   "name": "jkenvtoolkits"
  },
  "language_info": {
   "codemirror_mode": {
    "name": "ipython",
    "version": 3
   },
   "file_extension": ".py",
   "mimetype": "text/x-python",
   "name": "python",
   "nbconvert_exporter": "python",
   "pygments_lexer": "ipython3",
   "version": "3.9.13"
  }
 },
 "nbformat": 4,
 "nbformat_minor": 2
}

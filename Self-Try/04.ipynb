{
 "cells": [
  {
   "cell_type": "code",
   "execution_count": 8,
   "metadata": {},
   "outputs": [
    {
     "data": {
      "text/plain": [
       "[1, ['q']]"
      ]
     },
     "execution_count": 8,
     "metadata": {},
     "output_type": "execute_result"
    }
   ],
   "source": [
    "from typing import List\n",
    "a: list[str] = [1, [10000]]\n",
    "a\n"
   ]
  },
  {
   "cell_type": "code",
   "execution_count": 9,
   "metadata": {},
   "outputs": [
    {
     "name": "stdout",
     "output_type": "stream",
     "text": [
      "('Justin', 0)\n",
      "('Monica', 1000)\n"
     ]
    },
    {
     "data": {
      "text/plain": [
       "('Monica', 'me')"
      ]
     },
     "execution_count": 9,
     "metadata": {},
     "output_type": "execute_result"
    }
   ],
   "source": [
    "from typing import overload\n",
    "\n",
    "@overload\n",
    "def account(name: str) -> tuple[str, float]:\n",
    "    pass\n",
    "\n",
    "@overload\n",
    "def account(name: str, balance: float) -> tuple[str, float]:\n",
    "    pass\n",
    "\n",
    "def account(name, balance = 0):\n",
    "    return (name, balance)\n",
    "\n",
    "acct1 = account('Justin')\n",
    "acct2 = account('Monica', 1000)\n",
    "acct3 = account('Monica', 'me')\n",
    "\n",
    "\n",
    "print(acct1)\n",
    "print(acct2)\n",
    "acct3"
   ]
  },
  {
   "cell_type": "markdown",
   "metadata": {},
   "source": [
    "## exercise 1"
   ]
  },
  {
   "cell_type": "code",
   "execution_count": 4,
   "metadata": {},
   "outputs": [
    {
     "ename": "TypeError",
     "evalue": "unsupported operand type(s) for ** or pow(): 'str' and 'int'",
     "output_type": "error",
     "traceback": [
      "\u001b[0;31m---------------------------------------------------------------------------\u001b[0m",
      "\u001b[0;31mTypeError\u001b[0m                                 Traceback (most recent call last)",
      "Cell \u001b[0;32mIn[4], line 3\u001b[0m\n\u001b[1;32m      1\u001b[0m a \u001b[38;5;241m=\u001b[39m \u001b[38;5;241m999\u001b[39m\n\u001b[1;32m      2\u001b[0m b, c, d \u001b[38;5;241m=\u001b[39m \u001b[38;5;28mstr\u001b[39m(a)\n\u001b[0;32m----> 3\u001b[0m \u001b[43mb\u001b[49m\u001b[38;5;241;43m*\u001b[39;49m\u001b[38;5;241;43m*\u001b[39;49m\u001b[38;5;241;43m2\u001b[39;49m, c, d\n",
      "\u001b[0;31mTypeError\u001b[0m: unsupported operand type(s) for ** or pow(): 'str' and 'int'"
     ]
    }
   ],
   "source": [
    "a = 999\n",
    "b, c, d = str(a)\n",
    "b, c, d"
   ]
  },
  {
   "cell_type": "code",
   "execution_count": 8,
   "metadata": {},
   "outputs": [
    {
     "name": "stdout",
     "output_type": "stream",
     "text": [
      "153 = 1 + 125 + 27\n",
      "370 = 27 + 343 + 0\n",
      "371 = 27 + 343 + 1\n",
      "407 = 64 + 0 + 343\n"
     ]
    }
   ],
   "source": [
    "for num in range(100, 1000):\n",
    "    hun, ten, sin = str(num)\n",
    "    hun, ten, sin = int(hun), int(ten), int(sin)\n",
    "    if hun**3 + ten**3 + sin**3 == num:\n",
    "        print(num, f'= {hun**3} + {ten**3} + {sin**3}')"
   ]
  },
  {
   "cell_type": "markdown",
   "metadata": {},
   "source": [
    "## exercise 2"
   ]
  },
  {
   "cell_type": "code",
   "execution_count": 10,
   "metadata": {},
   "outputs": [
    {
     "name": "stdout",
     "output_type": "stream",
     "text": [
      "[0, 1, 1, 2, 3, 5, 8, 13, 21, 34]\n"
     ]
    }
   ],
   "source": [
    "def febo(n):\n",
    "    febolist = []\n",
    "    current = 0\n",
    "    next_number = 1\n",
    "    for i in range(n):\n",
    "        febolist.append(current)\n",
    "        current = next_number\n",
    "        next_number+=febolist[-1] \n",
    "        \n",
    "    return febolist\n",
    "\n",
    "number = int(input('求幾個費氏數？'))\n",
    "print(febo(number))"
   ]
  },
  {
   "cell_type": "markdown",
   "metadata": {},
   "source": [
    "## exercise 3"
   ]
  },
  {
   "cell_type": "code",
   "execution_count": 17,
   "metadata": {},
   "outputs": [
    {
     "data": {
      "text/plain": [
       "['🟠4',\n",
       " '🟠2',\n",
       " '🟡11',\n",
       " '🟢6',\n",
       " '🟡4',\n",
       " '🟡2',\n",
       " '🔴4',\n",
       " '🟢10',\n",
       " '🟢5',\n",
       " '🟡5',\n",
       " '🟠1',\n",
       " '🔴11',\n",
       " '🟡6',\n",
       " '🟢4',\n",
       " '🟢11',\n",
       " '🔴1',\n",
       " '🟢2',\n",
       " '🟢3',\n",
       " '🟡3',\n",
       " '🟡7',\n",
       " '🔴6',\n",
       " '🔴8',\n",
       " '🟠10',\n",
       " '🟠7',\n",
       " '🟠3',\n",
       " '🟠9',\n",
       " '🟡12',\n",
       " '🟠12',\n",
       " '🟢9',\n",
       " '🟠13',\n",
       " '🟡13',\n",
       " '🟢7',\n",
       " '🔴13',\n",
       " '🟠8',\n",
       " '🟢8',\n",
       " '🟠11',\n",
       " '🟡9',\n",
       " '🟡10',\n",
       " '🔴5',\n",
       " '🔴3',\n",
       " '🔴10',\n",
       " '🔴12',\n",
       " '🔴9',\n",
       " '🟠5',\n",
       " '🟡1',\n",
       " '🟢1',\n",
       " '🟡8',\n",
       " '🔴2',\n",
       " '🔴7',\n",
       " '🟢13',\n",
       " '🟠6',\n",
       " '🟢12']"
      ]
     },
     "execution_count": 17,
     "metadata": {},
     "output_type": "execute_result"
    }
   ],
   "source": [
    "import random\n",
    "\n",
    "color = ['🔴', '🟡', '🟢', '🟠']\n",
    "number = [str(i+1) for i in range(13)]\n",
    "\n",
    "allcard = [c+num for c in color for num in number]\n",
    "random.shuffle(allcard)\n",
    "allcard"
   ]
  },
  {
   "cell_type": "markdown",
   "metadata": {},
   "source": [
    "## exercise 4"
   ]
  },
  {
   "cell_type": "code",
   "execution_count": 19,
   "metadata": {},
   "outputs": [
    {
     "data": {
      "text/plain": [
       "range(0, 10)"
      ]
     },
     "execution_count": 19,
     "metadata": {},
     "output_type": "execute_result"
    }
   ],
   "source": [
    "range(10)"
   ]
  },
  {
   "cell_type": "code",
   "execution_count": 23,
   "metadata": {},
   "outputs": [
    {
     "data": {
      "text/plain": [
       "[(6, 10, 8), (8, 10, 6)]"
      ]
     },
     "execution_count": 23,
     "metadata": {},
     "output_type": "execute_result"
    }
   ],
   "source": [
    "[(a, b, c) for a in range(1, 11) for b in range(1, 11) for c in range(1, 11) if a+b+c==24 and a<b+c and b<a+c and c<a+b and a**2+c**2==b**2]"
   ]
  },
  {
   "cell_type": "code",
   "execution_count": null,
   "metadata": {},
   "outputs": [],
   "source": []
  }
 ],
 "metadata": {
  "kernelspec": {
   "display_name": "JKENVtoolkits",
   "language": "python",
   "name": "jkenvtoolkits"
  },
  "language_info": {
   "codemirror_mode": {
    "name": "ipython",
    "version": 3
   },
   "file_extension": ".py",
   "mimetype": "text/x-python",
   "name": "python",
   "nbconvert_exporter": "python",
   "pygments_lexer": "ipython3",
   "version": "3.9.13"
  }
 },
 "nbformat": 4,
 "nbformat_minor": 2
}

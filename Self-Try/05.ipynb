{
 "cells": [
  {
   "cell_type": "code",
   "execution_count": 2,
   "metadata": {},
   "outputs": [
    {
     "name": "stdout",
     "output_type": "stream",
     "text": [
      "my name is myname, 0 weakness.\n"
     ]
    }
   ],
   "source": [
    "class Tryfun:\n",
    "    def __init__(self):\n",
    "        self.a = 0\n",
    "        self.name = 'myname'\n",
    "        \n",
    "    def __str__(self):\n",
    "        return f\"my name is {self.name}, {self.a} weakness.\"\n",
    "me = Tryfun()\n",
    "print(me)"
   ]
  },
  {
   "cell_type": "code",
   "execution_count": null,
   "metadata": {},
   "outputs": [],
   "source": [
    "import random\n",
    "\n",
    "class Tower:\n",
    "    def __init__(self, amount:int):\n",
    "        self.amount = amount\n",
    "        self.bar1 = [amount-num for num in range(amount)]\n",
    "        self.bar2 = []\n",
    "        self.bar3 = []\n",
    "        self.bars = [self.bar1, self.bar2, self.bar3]\n",
    "        self.days = 0\n",
    "    \n",
    "    def move_bar(self, from_bar, to_bar):\n",
    "        if not self.bars[from_bar]:\n",
    "           return False \n",
    "        elif not self.bars[to_bar]:\n",
    "            self.bars[to_bar].append(self.bars[from_bar].pop())\n",
    "            return True\n",
    "        elif self.bars[to_bar][-1] > self.bars[from_bar][-1]:\n",
    "            self.bars[to_bar].append(self.bars[from_bar].pop())\n",
    "            return True\n",
    "        else:\n",
    "            return False\n",
    "        \n",
    "    def play(self):\n",
    "        while len(self.bar3) < self.amount:\n",
    "            from_bar, to_bar = random.sample(range(3), k=2)\n",
    "            if self.move_bar(from_bar, to_bar):\n",
    "                self.days += 1\n",
    "                print(f\"Days {self.days}:\\nbar1: {self.bar1}\\nbar2: {self.bar2}\\nbar3: {self.bar3}\")\n",
    "    \n",
    "tower = Tower(6)\n",
    "tower.play()"
   ]
  },
  {
   "cell_type": "code",
   "execution_count": null,
   "metadata": {},
   "outputs": [],
   "source": []
  }
 ],
 "metadata": {
  "kernelspec": {
   "display_name": "JKENVtoolkits",
   "language": "python",
   "name": "jkenvtoolkits"
  },
  "language_info": {
   "codemirror_mode": {
    "name": "ipython",
    "version": 3
   },
   "file_extension": ".py",
   "mimetype": "text/x-python",
   "name": "python",
   "nbconvert_exporter": "python",
   "pygments_lexer": "ipython3",
   "version": "3.9.13"
  }
 },
 "nbformat": 4,
 "nbformat_minor": 2
}
